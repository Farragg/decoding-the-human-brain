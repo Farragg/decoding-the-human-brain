{
  "cells": [
    {
      "cell_type": "markdown",
      "source": [
        "# Ahmed Mohamed Abdel-Rashied 200180028\n",
        "\n",
        "---\n",
        "\n",
        "\n",
        "# Milad abdo galil            20180302\n",
        "---\n",
        "# farrag mohamed farrag       20180197\n",
        "---\n",
        "# Eslam Nasser Ghoneim        20180047\n",
        "--- "
      ],
      "metadata": {
        "id": "oPklBfo0Csrt"
      }
    },
    {
      "cell_type": "code",
      "execution_count": null,
      "metadata": {
        "colab": {
          "base_uri": "https://localhost:8080/"
        },
        "id": "uhIiSU8ewyfk",
        "outputId": "408ca1eb-f819-4a78-84f5-67c6d5dd2419"
      },
      "outputs": [
        {
          "output_type": "stream",
          "name": "stdout",
          "text": [
            "Requirement already satisfied: kaggle in /usr/local/lib/python3.7/dist-packages (1.5.12)\n",
            "Requirement already satisfied: tqdm in /usr/local/lib/python3.7/dist-packages (from kaggle) (4.62.3)\n",
            "Requirement already satisfied: urllib3 in /usr/local/lib/python3.7/dist-packages (from kaggle) (1.24.3)\n",
            "Requirement already satisfied: python-dateutil in /usr/local/lib/python3.7/dist-packages (from kaggle) (2.8.2)\n",
            "Requirement already satisfied: python-slugify in /usr/local/lib/python3.7/dist-packages (from kaggle) (5.0.2)\n",
            "Requirement already satisfied: certifi in /usr/local/lib/python3.7/dist-packages (from kaggle) (2021.10.8)\n",
            "Requirement already satisfied: requests in /usr/local/lib/python3.7/dist-packages (from kaggle) (2.23.0)\n",
            "Requirement already satisfied: six>=1.10 in /usr/local/lib/python3.7/dist-packages (from kaggle) (1.15.0)\n",
            "Requirement already satisfied: text-unidecode>=1.3 in /usr/local/lib/python3.7/dist-packages (from python-slugify->kaggle) (1.3)\n",
            "Requirement already satisfied: idna<3,>=2.5 in /usr/local/lib/python3.7/dist-packages (from requests->kaggle) (2.10)\n",
            "Requirement already satisfied: chardet<4,>=3.0.2 in /usr/local/lib/python3.7/dist-packages (from requests->kaggle) (3.0.4)\n"
          ]
        }
      ],
      "source": [
        "! pip install kaggle\n",
        "from scipy.signal import lfilter, decimate\n",
        "from scipy import signal\n",
        "from scipy.signal import butter\n",
        "import numpy as np\n",
        "import keras\n",
        "from keras import layers\n",
        "from scipy.io import loadmat\n",
        "from sklearn.naive_bayes import MultinomialNB\n",
        "from sklearn.naive_bayes import GaussianNB\n",
        "import matplotlib.pyplot as plt\n",
        "import pandas as pd"
      ]
    },
    {
      "cell_type": "code",
      "execution_count": null,
      "metadata": {
        "id": "dQ7-6jP7w97J"
      },
      "outputs": [],
      "source": [
        "! mkdir ~/.kaggle\n"
      ]
    },
    {
      "cell_type": "code",
      "execution_count": null,
      "metadata": {
        "id": "3ILEvAtMw_3d"
      },
      "outputs": [],
      "source": [
        "! cp kaggle.json ~/.kaggle/\n"
      ]
    },
    {
      "cell_type": "code",
      "execution_count": null,
      "metadata": {
        "id": "c0IzgknXxCd6"
      },
      "outputs": [],
      "source": [
        "! chmod 600 ~/.kaggle/kaggle.json\n"
      ]
    },
    {
      "cell_type": "code",
      "execution_count": null,
      "metadata": {
        "colab": {
          "base_uri": "https://localhost:8080/"
        },
        "id": "5h1nJI3WxFtv",
        "outputId": "1d2e0239-52ae-4e4a-e987-251ca6aa49c8"
      },
      "outputs": [
        {
          "output_type": "stream",
          "name": "stdout",
          "text": [
            "Warning: Looks like you're using an outdated API Version, please consider updating (server 1.5.12 / client 1.5.4)\n",
            "Downloading random_submission.csv to /content\n",
            "  0% 0.00/31.7k [00:00<?, ?B/s]\n",
            "100% 31.7k/31.7k [00:00<00:00, 24.6MB/s]\n",
            "Downloading train_13_16.zip to /content\n",
            "100% 968M/970M [00:10<00:00, 130MB/s]\n",
            "100% 970M/970M [00:10<00:00, 98.6MB/s]\n",
            "Downloading train_01_06.zip to /content\n",
            "100% 1.42G/1.42G [00:20<00:00, 24.3MB/s]\n",
            "100% 1.42G/1.42G [00:20<00:00, 73.4MB/s]\n",
            "Downloading test_17_23.zip to /content\n",
            "100% 1.63G/1.64G [00:41<00:00, 30.7MB/s]\n",
            "100% 1.64G/1.64G [00:42<00:00, 41.9MB/s]\n",
            "Downloading train_07_12.zip to /content\n",
            "100% 1.42G/1.43G [00:33<00:00, 24.1MB/s]\n",
            "100% 1.43G/1.43G [00:33<00:00, 45.7MB/s]\n"
          ]
        }
      ],
      "source": [
        "! kaggle competitions download decoding-the-human-brain"
      ]
    },
    {
      "cell_type": "code",
      "execution_count": null,
      "metadata": {
        "id": "J97vqG_VxWuN"
      },
      "outputs": [],
      "source": [
        ""
      ]
    },
    {
      "cell_type": "code",
      "execution_count": null,
      "metadata": {
        "colab": {
          "base_uri": "https://localhost:8080/"
        },
        "id": "vHHtPkD0yLrQ",
        "outputId": "d700c67a-7b8b-4a39-e74e-12d843e3f362"
      },
      "outputs": [
        {
          "output_type": "stream",
          "name": "stdout",
          "text": [
            "Archive:  /content/train_13_16.zip\n",
            "  inflating: data/train_subject13.mat  \n",
            "  inflating: data/train_subject14.mat  \n",
            "  inflating: data/train_subject15.mat  \n",
            "  inflating: data/train_subject16.mat  \n"
          ]
        }
      ],
      "source": [
        "!unzip '/content/train_13_16.zip'"
      ]
    },
    {
      "cell_type": "code",
      "execution_count": null,
      "metadata": {
        "colab": {
          "base_uri": "https://localhost:8080/"
        },
        "id": "f7Ob6xXFjYCM",
        "outputId": "fdb96d39-ff49-4245-af59-d249ea274ee6"
      },
      "outputs": [
        {
          "output_type": "stream",
          "name": "stdout",
          "text": [
            "Archive:  /content/train_01_06.zip\n",
            "  inflating: data/train_subject01.mat  \n",
            "  inflating: data/train_subject02.mat  \n",
            "  inflating: data/train_subject03.mat  \n",
            "  inflating: data/train_subject04.mat  \n",
            "  inflating: data/train_subject05.mat  \n",
            "  inflating: data/train_subject06.mat  \n"
          ]
        }
      ],
      "source": [
        "!unzip '/content/train_01_06.zip'"
      ]
    },
    {
      "cell_type": "code",
      "execution_count": null,
      "metadata": {
        "colab": {
          "base_uri": "https://localhost:8080/"
        },
        "id": "ruRtR1hvji0c",
        "outputId": "cdfa0908-e43f-4a76-c61a-0262a5b9cdcb"
      },
      "outputs": [
        {
          "output_type": "stream",
          "name": "stdout",
          "text": [
            "Archive:  /content/train_07_12.zip\n",
            "  inflating: data/train_subject07.mat  \n",
            "  inflating: data/train_subject08.mat  \n",
            "  inflating: data/train_subject09.mat  \n",
            "  inflating: data/train_subject10.mat  \n",
            "  inflating: data/train_subject11.mat  \n",
            "  inflating: data/train_subject12.mat  \n"
          ]
        }
      ],
      "source": [
        "!unzip '/content/train_07_12.zip'"
      ]
    },
    {
      "cell_type": "code",
      "source": [
        "def plot(data,data_mod):\n",
        "    fig = plt.figure()\n",
        "    ax1 = fig.add_subplot(211)\n",
        "    ax2 = fig.add_subplot(212)\n",
        "    ax3 = fig.add_subplot(312)\n",
        "    \n",
        "    ax1.plot([f for f in range(375)],data[1,7])\n",
        "    ax2.plot([f for f in range(375)],data[1,8])\n",
        "    ax3.plot([f for f in range(375)],data[1,9])\n",
        "    plt.show()\n",
        "    \n",
        "    fig = plt.figure()\n",
        "    ax1 = fig.add_subplot(211)\n",
        "    ax2 = fig.add_subplot(212)\n",
        "    ax3 = fig.add_subplot(312)\n",
        "    \n",
        "    ax1.plot([f for f in range(375)],data_mod[1,7])\n",
        "    ax2.plot([f for f in range(375)],data_mod[1,8])\n",
        "    ax3.plot([f for f in range(375)],data_mod[1,9])\n",
        "    plt.show()"
      ],
      "metadata": {
        "id": "xYRq7-rr0Lz_"
      },
      "execution_count": null,
      "outputs": []
    },
    {
      "cell_type": "code",
      "source": [
        "def butter_bandpass(lowcut, highcut, fs, order=5):\n",
        "    nyq = 0.5 * fs\n",
        "    low = lowcut / nyq\n",
        "    high = highcut / nyq\n",
        "    b, a = butter(order, [low, high], btype='band')\n",
        "    return b, a\n",
        "\n",
        "\n",
        "def butter_bandpass_filter(data, lowcut, highcut, fs, order=5):\n",
        "    b, a = butter_bandpass(lowcut, highcut, fs, order=order)\n",
        "    y = lfilter(b, a, data)\n",
        "    return y\n",
        "\n",
        "def loadData(filename,\n",
        "             downsample = 8, \n",
        "             start = 130, \n",
        "             stop = 375):\n",
        "\n",
        "    print (\"Loading \" + filename + \"...\")\n",
        "    data = loadmat(filename, squeeze_me=True)\n",
        "    X = data['X']\n",
        "    X=butter_bandpass_filter(X, 1, 20, data['sfreq'], order=5)\n",
        "    # Class labels available only for training data.\n",
        "    try:\n",
        "        y = data['y']\n",
        "    except:\n",
        "        y = None\n",
        "    # Decimate the time dimension (lowpass filtering + resampling)\n",
        "    print(\"x before  Decimate\"+str(X.shape))\n",
        "    X = decimate(X, downsample)\n",
        "    print(\"x after  Decimate\"+str(X.shape))\n",
        "    # Extract only the requested. time span\n",
        "    startIdx = int(start / float(downsample) + 0.5)\n",
        "    stopIdx  = int(stop / float(downsample) + 0.5)\n",
        "    print(f'start : {startIdx} , stop: {stopIdx}')\n",
        "    X = X[..., startIdx:stopIdx]\n",
        "    X = X - np.mean(X, axis = 0)\n",
        "    X = X / np.std(X, axis = 0)\n",
        "    \n",
        "    return X, y"
      ],
      "metadata": {
        "id": "PVCPIEjEye03"
      },
      "execution_count": null,
      "outputs": []
    },
    {
      "cell_type": "code",
      "execution_count": null,
      "metadata": {
        "id": "ALpARNbIjnvj"
      },
      "outputs": [],
      "source": [
        "import os\n",
        "paths=[]\n",
        "for dirname, _, filenames in os.walk('/content/data'):\n",
        "    for filename in filenames:\n",
        "        paths.append(os.path.join(dirname, filename))"
      ]
    },
    {
      "cell_type": "code",
      "source": [
        "data = loadmat(str(paths[0]), squeeze_me=True)\n",
        "plot(data[\"X\"],butter_bandpass_filter(data[\"X\"], 1, 20, data['sfreq'], order=5))"
      ],
      "metadata": {
        "colab": {
          "base_uri": "https://localhost:8080/",
          "height": 535
        },
        "id": "mEg6JLBN01Ev",
        "outputId": "15204b1c-5e9d-4f53-95e7-890dd53d0540"
      },
      "execution_count": null,
      "outputs": [
        {
          "output_type": "display_data",
          "data": {
            "image/png": "[encoded data removed]",
            "text/plain": [
              "<Figure size 432x288 with 3 Axes>"
            ]
          },
          "metadata": {
            "needs_background": "light"
          }
        },
        {
          "output_type": "display_data",
          "data": {
            "image/png": "[encoded data removed]",
            "text/plain": [
              "<Figure size 432x288 with 3 Axes>"
            ]
          },
          "metadata": {
            "needs_background": "light"
          }
        }
      ]
    },
    {
      "cell_type": "code",
      "execution_count": null,
      "metadata": {
        "colab": {
          "base_uri": "https://localhost:8080/"
        },
        "id": "mGcdv8nxkbKY",
        "outputId": "8e4fb7d0-61e7-4f98-b07e-86e2327fcdbe"
      },
      "outputs": [
        {
          "output_type": "execute_result",
          "data": {
            "text/plain": [
              "['/content/data/train_subject07.mat',\n",
              " '/content/data/train_subject03.mat',\n",
              " '/content/data/train_subject16.mat',\n",
              " '/content/data/train_subject12.mat',\n",
              " '/content/data/train_subject09.mat',\n",
              " '/content/data/train_subject06.mat',\n",
              " '/content/data/train_subject10.mat',\n",
              " '/content/data/train_subject14.mat',\n",
              " '/content/data/train_subject11.mat',\n",
              " '/content/data/train_subject04.mat',\n",
              " '/content/data/train_subject01.mat',\n",
              " '/content/data/train_subject15.mat',\n",
              " '/content/data/train_subject13.mat',\n",
              " '/content/data/train_subject08.mat',\n",
              " '/content/data/train_subject05.mat',\n",
              " '/content/data/train_subject02.mat']"
            ]
          },
          "metadata": {},
          "execution_count": 13
        }
      ],
      "source": [
        "paths"
      ]
    },
    {
      "cell_type": "code",
      "source": [
        "train_x=[]\n",
        "train_y=[]\n",
        "\n",
        "for i in range(0,len(paths)):\n",
        "    x,y =loadData(paths[i],downsample = 8, \n",
        "             start = 130, \n",
        "             stop = 375)\n",
        "    train_x.append(x)\n",
        "    train_y.append(y)"
      ],
      "metadata": {
        "colab": {
          "base_uri": "https://localhost:8080/"
        },
        "id": "fdBsuacyMFNf",
        "outputId": "dd4be6c4-d677-4438-e6e3-06ccc22aed46"
      },
      "execution_count": null,
      "outputs": [
        {
          "output_type": "stream",
          "name": "stdout",
          "text": [
            "Loading /content/data/train_subject07.mat...\n",
            "x before  Decimate(588, 306, 375)\n",
            "x after  Decimate(588, 306, 47)\n",
            "start : 16 , stop: 47\n",
            "Loading /content/data/train_subject03.mat...\n",
            "x before  Decimate(578, 306, 375)\n",
            "x after  Decimate(578, 306, 47)\n",
            "start : 16 , stop: 47\n",
            "Loading /content/data/train_subject16.mat...\n",
            "x before  Decimate(590, 306, 375)\n",
            "x after  Decimate(590, 306, 47)\n",
            "start : 16 , stop: 47\n",
            "Loading /content/data/train_subject12.mat...\n",
            "x before  Decimate(586, 306, 375)\n",
            "x after  Decimate(586, 306, 47)\n",
            "start : 16 , stop: 47\n",
            "Loading /content/data/train_subject09.mat...\n",
            "x before  Decimate(594, 306, 375)\n",
            "x after  Decimate(594, 306, 47)\n",
            "start : 16 , stop: 47\n",
            "Loading /content/data/train_subject06.mat...\n",
            "x before  Decimate(588, 306, 375)\n",
            "x after  Decimate(588, 306, 47)\n",
            "start : 16 , stop: 47\n",
            "Loading /content/data/train_subject10.mat...\n",
            "x before  Decimate(590, 306, 375)\n",
            "x after  Decimate(590, 306, 47)\n",
            "start : 16 , stop: 47\n",
            "Loading /content/data/train_subject14.mat...\n",
            "x before  Decimate(588, 306, 375)\n",
            "x after  Decimate(588, 306, 47)\n",
            "start : 16 , stop: 47\n",
            "Loading /content/data/train_subject11.mat...\n",
            "x before  Decimate(592, 306, 375)\n",
            "x after  Decimate(592, 306, 47)\n",
            "start : 16 , stop: 47\n",
            "Loading /content/data/train_subject04.mat...\n",
            "x before  Decimate(594, 306, 375)\n",
            "x after  Decimate(594, 306, 47)\n",
            "start : 16 , stop: 47\n",
            "Loading /content/data/train_subject01.mat...\n",
            "x before  Decimate(594, 306, 375)\n",
            "x after  Decimate(594, 306, 47)\n",
            "start : 16 , stop: 47\n",
            "Loading /content/data/train_subject15.mat...\n",
            "x before  Decimate(580, 306, 375)\n",
            "x after  Decimate(580, 306, 47)\n",
            "start : 16 , stop: 47\n",
            "Loading /content/data/train_subject13.mat...\n",
            "x before  Decimate(588, 306, 375)\n",
            "x after  Decimate(588, 306, 47)\n",
            "start : 16 , stop: 47\n",
            "Loading /content/data/train_subject08.mat...\n",
            "x before  Decimate(592, 306, 375)\n",
            "x after  Decimate(592, 306, 47)\n",
            "start : 16 , stop: 47\n",
            "Loading /content/data/train_subject05.mat...\n",
            "x before  Decimate(586, 306, 375)\n",
            "x after  Decimate(586, 306, 47)\n",
            "start : 16 , stop: 47\n",
            "Loading /content/data/train_subject02.mat...\n",
            "x before  Decimate(586, 306, 375)\n",
            "x after  Decimate(586, 306, 47)\n",
            "start : 16 , stop: 47\n"
          ]
        }
      ]
    },
    {
      "cell_type": "code",
      "source": [
        "train_x=np.vstack(train_x)\n",
        "train_y=np.concatenate(train_y)"
      ],
      "metadata": {
        "id": "TVXDncHUWrZO"
      },
      "execution_count": null,
      "outputs": []
    },
    {
      "cell_type": "code",
      "source": [
        "train_x.shape"
      ],
      "metadata": {
        "colab": {
          "base_uri": "https://localhost:8080/"
        },
        "id": "D9a8-Av8fO84",
        "outputId": "a19e611d-705c-46b3-ead3-131d90be6df3"
      },
      "execution_count": null,
      "outputs": [
        {
          "output_type": "execute_result",
          "data": {
            "text/plain": [
              "(9414, 306, 31)"
            ]
          },
          "metadata": {},
          "execution_count": 16
        }
      ]
    },
    {
      "cell_type": "code",
      "source": [
        "from sklearn.linear_model import LogisticRegression\n",
        "from sklearn.ensemble import RandomForestClassifier\n",
        "train_idex=8000\n",
        "clf2 = RandomForestClassifier(n_estimators = 1000, n_jobs = 1,criterion='entropy')\n"
      ],
      "metadata": {
        "id": "W-JQknoDZZWJ"
      },
      "execution_count": null,
      "outputs": []
    },
    {
      "cell_type": "code",
      "source": [
        "clf2.fit(train_x[:8000].reshape((8000, 306*31)),train_y[:8000])"
      ],
      "metadata": {
        "colab": {
          "base_uri": "https://localhost:8080/"
        },
        "id": "c_adVxgMbcdI",
        "outputId": "1e01841b-c376-49f0-b46b-c37a12ac3309"
      },
      "execution_count": null,
      "outputs": [
        {
          "output_type": "execute_result",
          "data": {
            "text/plain": [
              "RandomForestClassifier(criterion='entropy', n_estimators=1000, n_jobs=1)"
            ]
          },
          "metadata": {},
          "execution_count": 18
        }
      ]
    },
    {
      "cell_type": "code",
      "source": [
        "yHat = clf2.predict(train_x[8000:].reshape((len(train_x)-8000, 306*31)))"
      ],
      "metadata": {
        "id": "c1EsBf_xcmoH"
      },
      "execution_count": null,
      "outputs": []
    },
    {
      "cell_type": "code",
      "source": [
        "np.mean(yHat == train_y[8000:])"
      ],
      "metadata": {
        "colab": {
          "base_uri": "https://localhost:8080/"
        },
        "id": "2ql5XLu8c-ov",
        "outputId": "b2db89bd-c966-4093-8463-df13dbbf3fcf"
      },
      "execution_count": null,
      "outputs": [
        {
          "output_type": "execute_result",
          "data": {
            "text/plain": [
              "0.6541725601131542"
            ]
          },
          "metadata": {},
          "execution_count": 20
        }
      ]
    },
    {
      "cell_type": "code",
      "source": [
        "from sklearn.metrics import accuracy_score\n",
        "from sklearn.metrics import confusion_matrix\n",
        "from sklearn.metrics import classification_report\n",
        "acc = accuracy_score(train_y[8000:], yHat)\n",
        "\n",
        "print(\"Accuracy score: {}\".format(acc))\n",
        "print(confusion_matrix(train_y[8000:], yHat))\n",
        "print(classification_report(train_y[8000:], yHat, target_names={'class0',\n",
        "                    'class 1',}))\n"
      ],
      "metadata": {
        "colab": {
          "base_uri": "https://localhost:8080/"
        },
        "id": "Lf1GNa2MG162",
        "outputId": "d9c16478-7629-4331-9f8a-29f8aa7b6ed8"
      },
      "execution_count": null,
      "outputs": [
        {
          "output_type": "stream",
          "name": "stdout",
          "text": [
            "Accuracy score: 0.6541725601131542\n",
            "[[460 246]\n",
            " [243 465]]\n",
            "              precision    recall  f1-score   support\n",
            "\n",
            "      class0       0.65      0.65      0.65       706\n",
            "     class 1       0.65      0.66      0.66       708\n",
            "\n",
            "    accuracy                           0.65      1414\n",
            "   macro avg       0.65      0.65      0.65      1414\n",
            "weighted avg       0.65      0.65      0.65      1414\n",
            "\n"
          ]
        }
      ]
    },
    {
      "cell_type": "code",
      "source": [
        "! unzip /content/test_17_23.zip"
      ],
      "metadata": {
        "colab": {
          "base_uri": "https://localhost:8080/"
        },
        "id": "Z32-gVYOlGKP",
        "outputId": "ecd65f99-3190-422c-8bed-e8eeef941bc8"
      },
      "execution_count": null,
      "outputs": [
        {
          "output_type": "stream",
          "name": "stdout",
          "text": [
            "Archive:  /content/test_17_23.zip\n",
            "  inflating: data/test_subject17.mat  \n",
            "  inflating: data/test_subject18.mat  \n",
            "  inflating: data/test_subject19.mat  \n",
            "  inflating: data/test_subject20.mat  \n",
            "  inflating: data/test_subject21.mat  \n",
            "  inflating: data/test_subject22.mat  \n",
            "  inflating: data/test_subject23.mat  \n"
          ]
        }
      ]
    },
    {
      "cell_type": "code",
      "source": [
        "import os\n",
        "paths=[]\n",
        "for x in range(17,24):\n",
        "    paths.append(f'/content/data/test_subject{x}.mat')\n"
      ],
      "metadata": {
        "id": "2NR1NacAk87X"
      },
      "execution_count": null,
      "outputs": []
    },
    {
      "cell_type": "code",
      "source": [
        "test_x=[]\n",
        "test_y=[]\n",
        "\n",
        "for i in range(0,len(paths)):\n",
        "    x,y =loadData(paths[i],downsample = 8, \n",
        "             start = 130, \n",
        "             stop = 375)\n",
        "    test_x.append(x)\n",
        "    test_y.append(y)"
      ],
      "metadata": {
        "colab": {
          "base_uri": "https://localhost:8080/"
        },
        "id": "P0oZNPmsjSR_",
        "outputId": "5c37194e-4a18-487b-b915-86268d48e113"
      },
      "execution_count": null,
      "outputs": [
        {
          "output_type": "stream",
          "name": "stdout",
          "text": [
            "Loading /content/data/test_subject17.mat...\n",
            "x before  Decimate(594, 306, 375)\n",
            "x after  Decimate(594, 306, 47)\n",
            "start : 16 , stop: 47\n",
            "Loading /content/data/test_subject18.mat...\n",
            "x before  Decimate(584, 306, 375)\n",
            "x after  Decimate(584, 306, 47)\n",
            "start : 16 , stop: 47\n",
            "Loading /content/data/test_subject19.mat...\n",
            "x before  Decimate(586, 306, 375)\n",
            "x after  Decimate(586, 306, 47)\n",
            "start : 16 , stop: 47\n",
            "Loading /content/data/test_subject20.mat...\n",
            "x before  Decimate(584, 306, 375)\n",
            "x after  Decimate(584, 306, 47)\n",
            "start : 16 , stop: 47\n",
            "Loading /content/data/test_subject21.mat...\n",
            "x before  Decimate(532, 306, 375)\n",
            "x after  Decimate(532, 306, 47)\n",
            "start : 16 , stop: 47\n",
            "Loading /content/data/test_subject22.mat...\n",
            "x before  Decimate(588, 306, 375)\n",
            "x after  Decimate(588, 306, 47)\n",
            "start : 16 , stop: 47\n",
            "Loading /content/data/test_subject23.mat...\n",
            "x before  Decimate(590, 306, 375)\n",
            "x after  Decimate(590, 306, 47)\n",
            "start : 16 , stop: 47\n"
          ]
        }
      ]
    },
    {
      "cell_type": "code",
      "source": [
        "np.vstack(test_x)\n",
        "y_pred=clf2.predict(np.vstack(test_x).reshape((len(np.vstack(test_x)), 306*31)))"
      ],
      "metadata": {
        "id": "SrpVjJQpmeLe"
      },
      "execution_count": null,
      "outputs": []
    },
    {
      "cell_type": "code",
      "source": [
        ""
      ],
      "metadata": {
        "id": "inbOptBaGOsG"
      },
      "execution_count": null,
      "outputs": []
    },
    {
      "cell_type": "code",
      "source": [
        "data= pd.read_csv(\"/content/random_submission.csv\")\n",
        "data['Prediction']=y_pred\n",
        "\n",
        "data"
      ],
      "metadata": {
        "colab": {
          "base_uri": "https://localhost:8080/",
          "height": 424
        },
        "id": "8rhLfKYgnV43",
        "outputId": "621ec102-a3ba-4ada-b3cf-5746226fc7c6"
      },
      "execution_count": null,
      "outputs": [
        {
          "output_type": "execute_result",
          "data": {
            "text/html": [
              "\n",
              "  <div id=\"df-8c780361-5aaa-44e5-bb11-582891ecc93d\">\n",
              "    <div class=\"colab-df-container\">\n",
              "      <div>\n",
              "<style scoped>\n",
              "    .dataframe tbody tr th:only-of-type {\n",
              "        vertical-align: middle;\n",
              "    }\n",
              "\n",
              "    .dataframe tbody tr th {\n",
              "        vertical-align: top;\n",
              "    }\n",
              "\n",
              "    .dataframe thead th {\n",
              "        text-align: right;\n",
              "    }\n",
              "</style>\n",
              "<table border=\"1\" class=\"dataframe\">\n",
              "  <thead>\n",
              "    <tr style=\"text-align: right;\">\n",
              "      <th></th>\n",
              "      <th>Id</th>\n",
              "      <th>Prediction</th>\n",
              "    </tr>\n",
              "  </thead>\n",
              "  <tbody>\n",
              "    <tr>\n",
              "      <th>0</th>\n",
              "      <td>17000</td>\n",
              "      <td>0</td>\n",
              "    </tr>\n",
              "    <tr>\n",
              "      <th>1</th>\n",
              "      <td>17001</td>\n",
              "      <td>1</td>\n",
              "    </tr>\n",
              "    <tr>\n",
              "      <th>2</th>\n",
              "      <td>17002</td>\n",
              "      <td>1</td>\n",
              "    </tr>\n",
              "    <tr>\n",
              "      <th>3</th>\n",
              "      <td>17003</td>\n",
              "      <td>1</td>\n",
              "    </tr>\n",
              "    <tr>\n",
              "      <th>4</th>\n",
              "      <td>17004</td>\n",
              "      <td>1</td>\n",
              "    </tr>\n",
              "    <tr>\n",
              "      <th>...</th>\n",
              "      <td>...</td>\n",
              "      <td>...</td>\n",
              "    </tr>\n",
              "    <tr>\n",
              "      <th>4053</th>\n",
              "      <td>23585</td>\n",
              "      <td>0</td>\n",
              "    </tr>\n",
              "    <tr>\n",
              "      <th>4054</th>\n",
              "      <td>23586</td>\n",
              "      <td>0</td>\n",
              "    </tr>\n",
              "    <tr>\n",
              "      <th>4055</th>\n",
              "      <td>23587</td>\n",
              "      <td>0</td>\n",
              "    </tr>\n",
              "    <tr>\n",
              "      <th>4056</th>\n",
              "      <td>23588</td>\n",
              "      <td>0</td>\n",
              "    </tr>\n",
              "    <tr>\n",
              "      <th>4057</th>\n",
              "      <td>23589</td>\n",
              "      <td>0</td>\n",
              "    </tr>\n",
              "  </tbody>\n",
              "</table>\n",
              "<p>4058 rows × 2 columns</p>\n",
              "</div>\n",
              "      <button class=\"colab-df-convert\" onclick=\"convertToInteractive('df-8c780361-5aaa-44e5-bb11-582891ecc93d')\"\n",
              "              title=\"Convert this dataframe to an interactive table.\"\n",
              "              style=\"display:none;\">\n",
              "        \n",
              "  <svg xmlns=\"http://www.w3.org/2000/svg\" height=\"24px\"viewBox=\"0 0 24 24\"\n",
              "       width=\"24px\">\n",
              "    <path d=\"M0 0h24v24H0V0z\" fill=\"none\"/>\n",
              "    <path d=\"M18.56 5.44l.94 2.06.94-2.06 2.06-.94-2.06-.94-.94-2.06-.94 2.06-2.06.94zm-11 1L8.5 8.5l.94-2.06 2.06-.94-2.06-.94L8.5 2.5l-.94 2.06-2.06.94zm10 10l.94 2.06.94-2.06 2.06-.94-2.06-.94-.94-2.06-.94 2.06-2.06.94z\"/><path d=\"M17.41 7.96l-1.37-1.37c-.4-.4-.92-.59-1.43-.59-.52 0-1.04.2-1.43.59L10.3 9.45l-7.72 7.72c-.78.78-.78 2.05 0 2.83L4 21.41c.39.39.9.59 1.41.59.51 0 1.02-.2 1.41-.59l7.78-7.78 2.81-2.81c.8-.78.8-2.07 0-2.86zM5.41 20L4 18.59l7.72-7.72 1.47 1.35L5.41 20z\"/>\n",
              "  </svg>\n",
              "      </button>\n",
              "      \n",
              "  <style>\n",
              "    .colab-df-container {\n",
              "      display:flex;\n",
              "      flex-wrap:wrap;\n",
              "      gap: 12px;\n",
              "    }\n",
              "\n",
              "    .colab-df-convert {\n",
              "      background-color: #E8F0FE;\n",
              "      border: none;\n",
              "      border-radius: 50%;\n",
              "      cursor: pointer;\n",
              "      display: none;\n",
              "      fill: #1967D2;\n",
              "      height: 32px;\n",
              "      padding: 0 0 0 0;\n",
              "      width: 32px;\n",
              "    }\n",
              "\n",
              "    .colab-df-convert:hover {\n",
              "      background-color: #E2EBFA;\n",
              "      box-shadow: 0px 1px 2px rgba(60, 64, 67, 0.3), 0px 1px 3px 1px rgba(60, 64, 67, 0.15);\n",
              "      fill: #174EA6;\n",
              "    }\n",
              "\n",
              "    [theme=dark] .colab-df-convert {\n",
              "      background-color: #3B4455;\n",
              "      fill: #D2E3FC;\n",
              "    }\n",
              "\n",
              "    [theme=dark] .colab-df-convert:hover {\n",
              "      background-color: #434B5C;\n",
              "      box-shadow: 0px 1px 3px 1px rgba(0, 0, 0, 0.15);\n",
              "      filter: drop-shadow(0px 1px 2px rgba(0, 0, 0, 0.3));\n",
              "      fill: #FFFFFF;\n",
              "    }\n",
              "  </style>\n",
              "\n",
              "      <script>\n",
              "        const buttonEl =\n",
              "          document.querySelector('#df-8c780361-5aaa-44e5-bb11-582891ecc93d button.colab-df-convert');\n",
              "        buttonEl.style.display =\n",
              "          google.colab.kernel.accessAllowed ? 'block' : 'none';\n",
              "\n",
              "        async function convertToInteractive(key) {\n",
              "          const element = document.querySelector('#df-8c780361-5aaa-44e5-bb11-582891ecc93d');\n",
              "          const dataTable =\n",
              "            await google.colab.kernel.invokeFunction('convertToInteractive',\n",
              "                                                     [key], {});\n",
              "          if (!dataTable) return;\n",
              "\n",
              "          const docLinkHtml = 'Like what you see? Visit the ' +\n",
              "            '<a target=\"_blank\" href=https://colab.research.google.com/notebooks/data_table.ipynb>data table notebook</a>'\n",
              "            + ' to learn more about interactive tables.';\n",
              "          element.innerHTML = '';\n",
              "          dataTable['output_type'] = 'display_data';\n",
              "          await google.colab.output.renderOutput(dataTable, element);\n",
              "          const docLink = document.createElement('div');\n",
              "          docLink.innerHTML = docLinkHtml;\n",
              "          element.appendChild(docLink);\n",
              "        }\n",
              "      </script>\n",
              "    </div>\n",
              "  </div>\n",
              "  "
            ],
            "text/plain": [
              "         Id  Prediction\n",
              "0     17000           0\n",
              "1     17001           1\n",
              "2     17002           1\n",
              "3     17003           1\n",
              "4     17004           1\n",
              "...     ...         ...\n",
              "4053  23585           0\n",
              "4054  23586           0\n",
              "4055  23587           0\n",
              "4056  23588           0\n",
              "4057  23589           0\n",
              "\n",
              "[4058 rows x 2 columns]"
            ]
          },
          "metadata": {},
          "execution_count": 26
        }
      ]
    },
    {
      "cell_type": "code",
      "source": [
        "data.to_csv('/content/submission3.csv',index=False)\n"
      ],
      "metadata": {
        "id": "sTWlmis5ndo-"
      },
      "execution_count": null,
      "outputs": []
    },
    {
      "cell_type": "code",
      "source": [
        ""
      ],
      "metadata": {
        "id": "FOVPX74AEarX"
      },
      "execution_count": null,
      "outputs": []
    }
  ],
  "metadata": {
    "colab": {
      "collapsed_sections": [],
      "name": "Project_20180028_20180302_ 20180197_ 20180047.ipynb",
      "provenance": []
    },
    "kernelspec": {
      "display_name": "Python 3",
      "name": "python3"
    },
    "language_info": {
      "name": "python"
    }
  },
  "nbformat": 4,
  "nbformat_minor": 0
}